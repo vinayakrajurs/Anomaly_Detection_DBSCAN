{
 "cells": [
  {
   "cell_type": "code",
   "execution_count": null,
   "id": "f7ca8b62",
   "metadata": {},
   "outputs": [],
   "source": [
    "import numpy as np\n",
    "from sklearn.cluster import DBSCAN\n",
    "\n",
    "# Define a function to detect anomalies using DBSCAN\n",
    "def detect_anomalies_dbscan(data, epsilon, min_samples):\n",
    "    # Fit the DBSCAN model\n",
    "    dbscan = DBSCAN(eps=epsilon, min_samples=min_samples)\n",
    "    dbscan.fit(data)\n",
    "\n",
    "    # Get the labels assigned by DBSCAN\n",
    "    labels = dbscan.labels_\n",
    "\n",
    "    # Identify anomalies as data points that are assigned to the -1 cluster label by DBSCAN\n",
    "    anomalies = data[labels==-1]\n",
    "\n",
    "    return anomalies\n",
    "\n",
    "# Generate sample time series data\n",
    "np.random.seed(123)\n",
    "data = np.random.normal(0, 1, 1000).cumsum()\n",
    "\n",
    "# Add some anomalies to the data\n",
    "data[200:205] = 10\n",
    "data[800:810] = -8\n",
    "\n",
    "# Reshape the data to create a 2D array with one column\n",
    "data = data.reshape(-1, 1)\n",
    "\n",
    "# Set the DBSCAN hyperparameters\n",
    "epsilon = 3\n",
    "min_samples = 10\n",
    "\n",
    "# Detect anomalies using DBSCAN\n",
    "anomalies = detect_anomalies_dbscan(data, epsilon, min_samples)\n",
    "\n",
    "# Print the anomalies\n",
    "print(\"Anomalies detected by DBSCAN:\")\n",
    "print(anomalies)\n"
   ]
  }
 ],
 "metadata": {
  "kernelspec": {
   "display_name": "Python 3 (ipykernel)",
   "language": "python",
   "name": "python3"
  },
  "language_info": {
   "codemirror_mode": {
    "name": "ipython",
    "version": 3
   },
   "file_extension": ".py",
   "mimetype": "text/x-python",
   "name": "python",
   "nbconvert_exporter": "python",
   "pygments_lexer": "ipython3",
   "version": "3.8.12"
  }
 },
 "nbformat": 4,
 "nbformat_minor": 5
}
